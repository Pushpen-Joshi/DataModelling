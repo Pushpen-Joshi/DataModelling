{
 "cells": [
  {
   "cell_type": "markdown",
   "id": "d7f12e9b",
   "metadata": {},
   "source": [
    "# Pizza Database"
   ]
  },
  {
   "cell_type": "markdown",
   "id": "cdabdb1b",
   "metadata": {},
   "source": [
    "#### Installing pandas"
   ]
  },
  {
   "cell_type": "code",
   "execution_count": 96,
   "id": "30aeace0",
   "metadata": {
    "scrolled": true
   },
   "outputs": [],
   "source": [
    "#!pip install pandas"
   ]
  },
  {
   "cell_type": "markdown",
   "id": "e3cf936d",
   "metadata": {},
   "source": [
    "### Importing pandas and psycopg2"
   ]
  },
  {
   "cell_type": "code",
   "execution_count": 44,
   "id": "f3985327",
   "metadata": {},
   "outputs": [],
   "source": [
    "import psycopg2\n",
    "import pandas as pd"
   ]
  },
  {
   "cell_type": "markdown",
   "id": "eb233b6c",
   "metadata": {},
   "source": [
    "### Creating project database"
   ]
  },
  {
   "cell_type": "code",
   "execution_count": 60,
   "id": "5fabf8d7",
   "metadata": {},
   "outputs": [],
   "source": [
    "def create_database():\n",
    "    # connect to default database\n",
    "    #conn = psycopg2.connect(\"host=127.0.0.1 dbname=postgres user=postgres password=postgres\")\n",
    "    conn = psycopg2.connect(\"host=127.0.0.1 dbname=postgres user=postgres password=postgres\")\n",
    "    conn.set_session(autocommit=True)\n",
    "    cur =  conn.cursor()\n",
    "    \n",
    "    #creating project database with UTF8 encoding\n",
    "    cur.execute(\"DROP DATABASE IF EXISTS project\")\n",
    "    cur.execute(\"CREATE DATABASE project\")\n",
    "    \n",
    "    #closing connection to default database\n",
    "    conn.close()\n",
    "    \n",
    "    #connecting to project database\n",
    "    conn = psycopg2.connect(\"host=127.0.0.1 dbname=project user=postgres password=postgres\")\n",
    "    conn.set_session(autocommit=True)\n",
    "    cur = conn.cursor()\n",
    "    \n",
    "    return cur, conn"
   ]
  },
  {
   "cell_type": "markdown",
   "id": "5ef27b31",
   "metadata": {},
   "source": [
    "## Reading the source data from csv files and storing in variables"
   ]
  },
  {
   "cell_type": "code",
   "execution_count": 46,
   "id": "d2d12086",
   "metadata": {},
   "outputs": [],
   "source": [
    "Pizzas = pd.read_csv(\"source_data/pizzas.csv\")"
   ]
  },
  {
   "cell_type": "code",
   "execution_count": 47,
   "id": "e1a247d4",
   "metadata": {},
   "outputs": [
    {
     "data": {
      "text/html": [
       "<div>\n",
       "<style scoped>\n",
       "    .dataframe tbody tr th:only-of-type {\n",
       "        vertical-align: middle;\n",
       "    }\n",
       "\n",
       "    .dataframe tbody tr th {\n",
       "        vertical-align: top;\n",
       "    }\n",
       "\n",
       "    .dataframe thead th {\n",
       "        text-align: right;\n",
       "    }\n",
       "</style>\n",
       "<table border=\"1\" class=\"dataframe\">\n",
       "  <thead>\n",
       "    <tr style=\"text-align: right;\">\n",
       "      <th></th>\n",
       "      <th>pizza_id</th>\n",
       "      <th>pizza_type_id</th>\n",
       "      <th>size</th>\n",
       "      <th>price</th>\n",
       "    </tr>\n",
       "  </thead>\n",
       "  <tbody>\n",
       "    <tr>\n",
       "      <th>0</th>\n",
       "      <td>bbq_ckn_s</td>\n",
       "      <td>bbq_ckn</td>\n",
       "      <td>S</td>\n",
       "      <td>12.75</td>\n",
       "    </tr>\n",
       "    <tr>\n",
       "      <th>1</th>\n",
       "      <td>bbq_ckn_m</td>\n",
       "      <td>bbq_ckn</td>\n",
       "      <td>M</td>\n",
       "      <td>16.75</td>\n",
       "    </tr>\n",
       "    <tr>\n",
       "      <th>2</th>\n",
       "      <td>bbq_ckn_l</td>\n",
       "      <td>bbq_ckn</td>\n",
       "      <td>L</td>\n",
       "      <td>20.75</td>\n",
       "    </tr>\n",
       "    <tr>\n",
       "      <th>3</th>\n",
       "      <td>cali_ckn_s</td>\n",
       "      <td>cali_ckn</td>\n",
       "      <td>S</td>\n",
       "      <td>12.75</td>\n",
       "    </tr>\n",
       "    <tr>\n",
       "      <th>4</th>\n",
       "      <td>cali_ckn_m</td>\n",
       "      <td>cali_ckn</td>\n",
       "      <td>M</td>\n",
       "      <td>16.75</td>\n",
       "    </tr>\n",
       "  </tbody>\n",
       "</table>\n",
       "</div>"
      ],
      "text/plain": [
       "     pizza_id pizza_type_id size  price\n",
       "0   bbq_ckn_s       bbq_ckn    S  12.75\n",
       "1   bbq_ckn_m       bbq_ckn    M  16.75\n",
       "2   bbq_ckn_l       bbq_ckn    L  20.75\n",
       "3  cali_ckn_s      cali_ckn    S  12.75\n",
       "4  cali_ckn_m      cali_ckn    M  16.75"
      ]
     },
     "execution_count": 47,
     "metadata": {},
     "output_type": "execute_result"
    }
   ],
   "source": [
    "Pizzas.head()"
   ]
  },
  {
   "cell_type": "code",
   "execution_count": 48,
   "id": "e731e8f6",
   "metadata": {},
   "outputs": [],
   "source": [
    "Order_details = pd.read_csv(\"source_data/order_details.csv\")"
   ]
  },
  {
   "cell_type": "code",
   "execution_count": 49,
   "id": "25744e0e",
   "metadata": {},
   "outputs": [
    {
     "data": {
      "text/html": [
       "<div>\n",
       "<style scoped>\n",
       "    .dataframe tbody tr th:only-of-type {\n",
       "        vertical-align: middle;\n",
       "    }\n",
       "\n",
       "    .dataframe tbody tr th {\n",
       "        vertical-align: top;\n",
       "    }\n",
       "\n",
       "    .dataframe thead th {\n",
       "        text-align: right;\n",
       "    }\n",
       "</style>\n",
       "<table border=\"1\" class=\"dataframe\">\n",
       "  <thead>\n",
       "    <tr style=\"text-align: right;\">\n",
       "      <th></th>\n",
       "      <th>order_details_id</th>\n",
       "      <th>order_id</th>\n",
       "      <th>pizza_id</th>\n",
       "      <th>quantity</th>\n",
       "    </tr>\n",
       "  </thead>\n",
       "  <tbody>\n",
       "    <tr>\n",
       "      <th>0</th>\n",
       "      <td>1</td>\n",
       "      <td>1</td>\n",
       "      <td>hawaiian_m</td>\n",
       "      <td>1</td>\n",
       "    </tr>\n",
       "    <tr>\n",
       "      <th>1</th>\n",
       "      <td>2</td>\n",
       "      <td>2</td>\n",
       "      <td>classic_dlx_m</td>\n",
       "      <td>1</td>\n",
       "    </tr>\n",
       "    <tr>\n",
       "      <th>2</th>\n",
       "      <td>3</td>\n",
       "      <td>2</td>\n",
       "      <td>five_cheese_l</td>\n",
       "      <td>1</td>\n",
       "    </tr>\n",
       "    <tr>\n",
       "      <th>3</th>\n",
       "      <td>4</td>\n",
       "      <td>2</td>\n",
       "      <td>ital_supr_l</td>\n",
       "      <td>1</td>\n",
       "    </tr>\n",
       "    <tr>\n",
       "      <th>4</th>\n",
       "      <td>5</td>\n",
       "      <td>2</td>\n",
       "      <td>mexicana_m</td>\n",
       "      <td>1</td>\n",
       "    </tr>\n",
       "  </tbody>\n",
       "</table>\n",
       "</div>"
      ],
      "text/plain": [
       "   order_details_id  order_id       pizza_id  quantity\n",
       "0                 1         1     hawaiian_m         1\n",
       "1                 2         2  classic_dlx_m         1\n",
       "2                 3         2  five_cheese_l         1\n",
       "3                 4         2    ital_supr_l         1\n",
       "4                 5         2     mexicana_m         1"
      ]
     },
     "execution_count": 49,
     "metadata": {},
     "output_type": "execute_result"
    }
   ],
   "source": [
    "Order_details.head()"
   ]
  },
  {
   "cell_type": "code",
   "execution_count": 50,
   "id": "147b1011",
   "metadata": {},
   "outputs": [],
   "source": [
    "Pizza_types = pd.read_csv(\"source_data/pizza_types.csv\")"
   ]
  },
  {
   "cell_type": "code",
   "execution_count": 51,
   "id": "11ed6d87",
   "metadata": {},
   "outputs": [
    {
     "data": {
      "text/html": [
       "<div>\n",
       "<style scoped>\n",
       "    .dataframe tbody tr th:only-of-type {\n",
       "        vertical-align: middle;\n",
       "    }\n",
       "\n",
       "    .dataframe tbody tr th {\n",
       "        vertical-align: top;\n",
       "    }\n",
       "\n",
       "    .dataframe thead th {\n",
       "        text-align: right;\n",
       "    }\n",
       "</style>\n",
       "<table border=\"1\" class=\"dataframe\">\n",
       "  <thead>\n",
       "    <tr style=\"text-align: right;\">\n",
       "      <th></th>\n",
       "      <th>pizza_type_id</th>\n",
       "      <th>name</th>\n",
       "      <th>category</th>\n",
       "      <th>ingredients</th>\n",
       "    </tr>\n",
       "  </thead>\n",
       "  <tbody>\n",
       "    <tr>\n",
       "      <th>0</th>\n",
       "      <td>bbq_ckn</td>\n",
       "      <td>The Barbecue Chicken Pizza</td>\n",
       "      <td>Chicken</td>\n",
       "      <td>Barbecued Chicken, Red Peppers, Green Peppers,...</td>\n",
       "    </tr>\n",
       "    <tr>\n",
       "      <th>1</th>\n",
       "      <td>cali_ckn</td>\n",
       "      <td>The California Chicken Pizza</td>\n",
       "      <td>Chicken</td>\n",
       "      <td>Chicken, Artichoke, Spinach, Garlic, Jalapeno ...</td>\n",
       "    </tr>\n",
       "    <tr>\n",
       "      <th>2</th>\n",
       "      <td>ckn_alfredo</td>\n",
       "      <td>The Chicken Alfredo Pizza</td>\n",
       "      <td>Chicken</td>\n",
       "      <td>Chicken, Red Onions, Red Peppers, Mushrooms, A...</td>\n",
       "    </tr>\n",
       "    <tr>\n",
       "      <th>3</th>\n",
       "      <td>ckn_pesto</td>\n",
       "      <td>The Chicken Pesto Pizza</td>\n",
       "      <td>Chicken</td>\n",
       "      <td>Chicken, Tomatoes, Red Peppers, Spinach, Garli...</td>\n",
       "    </tr>\n",
       "    <tr>\n",
       "      <th>4</th>\n",
       "      <td>southw_ckn</td>\n",
       "      <td>The Southwest Chicken Pizza</td>\n",
       "      <td>Chicken</td>\n",
       "      <td>Chicken, Tomatoes, Red Peppers, Red Onions, Ja...</td>\n",
       "    </tr>\n",
       "  </tbody>\n",
       "</table>\n",
       "</div>"
      ],
      "text/plain": [
       "  pizza_type_id                          name category  \\\n",
       "0       bbq_ckn    The Barbecue Chicken Pizza  Chicken   \n",
       "1      cali_ckn  The California Chicken Pizza  Chicken   \n",
       "2   ckn_alfredo     The Chicken Alfredo Pizza  Chicken   \n",
       "3     ckn_pesto       The Chicken Pesto Pizza  Chicken   \n",
       "4    southw_ckn   The Southwest Chicken Pizza  Chicken   \n",
       "\n",
       "                                         ingredients  \n",
       "0  Barbecued Chicken, Red Peppers, Green Peppers,...  \n",
       "1  Chicken, Artichoke, Spinach, Garlic, Jalapeno ...  \n",
       "2  Chicken, Red Onions, Red Peppers, Mushrooms, A...  \n",
       "3  Chicken, Tomatoes, Red Peppers, Spinach, Garli...  \n",
       "4  Chicken, Tomatoes, Red Peppers, Red Onions, Ja...  "
      ]
     },
     "execution_count": 51,
     "metadata": {},
     "output_type": "execute_result"
    }
   ],
   "source": [
    "Pizza_types.head()"
   ]
  },
  {
   "cell_type": "code",
   "execution_count": 52,
   "id": "784732a3",
   "metadata": {},
   "outputs": [],
   "source": [
    "Orders = pd.read_csv(\"source_data/orders.csv\")"
   ]
  },
  {
   "cell_type": "code",
   "execution_count": 53,
   "id": "bcf21831",
   "metadata": {},
   "outputs": [
    {
     "data": {
      "text/html": [
       "<div>\n",
       "<style scoped>\n",
       "    .dataframe tbody tr th:only-of-type {\n",
       "        vertical-align: middle;\n",
       "    }\n",
       "\n",
       "    .dataframe tbody tr th {\n",
       "        vertical-align: top;\n",
       "    }\n",
       "\n",
       "    .dataframe thead th {\n",
       "        text-align: right;\n",
       "    }\n",
       "</style>\n",
       "<table border=\"1\" class=\"dataframe\">\n",
       "  <thead>\n",
       "    <tr style=\"text-align: right;\">\n",
       "      <th></th>\n",
       "      <th>order_id</th>\n",
       "      <th>date</th>\n",
       "      <th>time</th>\n",
       "    </tr>\n",
       "  </thead>\n",
       "  <tbody>\n",
       "    <tr>\n",
       "      <th>0</th>\n",
       "      <td>1</td>\n",
       "      <td>2015-01-01</td>\n",
       "      <td>11:38:36</td>\n",
       "    </tr>\n",
       "    <tr>\n",
       "      <th>1</th>\n",
       "      <td>2</td>\n",
       "      <td>2015-01-01</td>\n",
       "      <td>11:57:40</td>\n",
       "    </tr>\n",
       "    <tr>\n",
       "      <th>2</th>\n",
       "      <td>3</td>\n",
       "      <td>2015-01-01</td>\n",
       "      <td>12:12:28</td>\n",
       "    </tr>\n",
       "    <tr>\n",
       "      <th>3</th>\n",
       "      <td>4</td>\n",
       "      <td>2015-01-01</td>\n",
       "      <td>12:16:31</td>\n",
       "    </tr>\n",
       "    <tr>\n",
       "      <th>4</th>\n",
       "      <td>5</td>\n",
       "      <td>2015-01-01</td>\n",
       "      <td>12:21:30</td>\n",
       "    </tr>\n",
       "  </tbody>\n",
       "</table>\n",
       "</div>"
      ],
      "text/plain": [
       "   order_id        date      time\n",
       "0         1  2015-01-01  11:38:36\n",
       "1         2  2015-01-01  11:57:40\n",
       "2         3  2015-01-01  12:12:28\n",
       "3         4  2015-01-01  12:16:31\n",
       "4         5  2015-01-01  12:21:30"
      ]
     },
     "execution_count": 53,
     "metadata": {},
     "output_type": "execute_result"
    }
   ],
   "source": [
    "Orders.head()"
   ]
  },
  {
   "cell_type": "code",
   "execution_count": 54,
   "id": "091728b2",
   "metadata": {},
   "outputs": [
    {
     "data": {
      "text/plain": [
       "Index(['order_id', 'date', 'time'], dtype='object')"
      ]
     },
     "execution_count": 54,
     "metadata": {},
     "output_type": "execute_result"
    }
   ],
   "source": [
    "Orders.columns"
   ]
  },
  {
   "cell_type": "markdown",
   "id": "ddfcccd1",
   "metadata": {},
   "source": [
    "## Creating the database tables"
   ]
  },
  {
   "cell_type": "code",
   "execution_count": 61,
   "id": "5fdb1114",
   "metadata": {},
   "outputs": [],
   "source": [
    "cur, conn = create_database()"
   ]
  },
  {
   "cell_type": "code",
   "execution_count": 55,
   "id": "90d82f99",
   "metadata": {},
   "outputs": [],
   "source": [
    "pizzas_table_create = (\"\"\" CREATE TABLE IF NOT EXISTS \n",
    "                        pizzas (pizza_id VARCHAR PRIMARY KEY,\n",
    "                        pizza_type_id VARCHAR,\n",
    "                        size VARCHAR,\n",
    "                        price VARCHAR);\n",
    "\"\"\")"
   ]
  },
  {
   "cell_type": "code",
   "execution_count": 62,
   "id": "b2e261a3",
   "metadata": {},
   "outputs": [],
   "source": [
    "cur.execute(pizzas_table_create)"
   ]
  },
  {
   "cell_type": "code",
   "execution_count": 66,
   "id": "84a412ec",
   "metadata": {},
   "outputs": [],
   "source": [
    "orders_table_create = (\"\"\" CREATE TABLE IF NOT EXISTS\n",
    "                        orders (order_id VARCHAR PRIMARY KEY,\n",
    "                        date VARCHAR,\n",
    "                        time VARCHAR);\n",
    "\"\"\")"
   ]
  },
  {
   "cell_type": "code",
   "execution_count": 67,
   "id": "b9542746",
   "metadata": {},
   "outputs": [],
   "source": [
    "cur.execute(orders_table_create)"
   ]
  },
  {
   "cell_type": "code",
   "execution_count": 69,
   "id": "07df49fb",
   "metadata": {},
   "outputs": [],
   "source": [
    "order_details_table_create = (\"\"\" CREATE TABLE IF NOT EXISTS\n",
    "                                order_details (order_details_id VARCHAR PRIMARY KEY,\n",
    "                                order_id VARCHAR,\n",
    "                                pizza_id VARCHAR,\n",
    "                                quantity VARCHAR\n",
    "                                );\n",
    "\"\"\")"
   ]
  },
  {
   "cell_type": "code",
   "execution_count": 70,
   "id": "2a80ff13",
   "metadata": {},
   "outputs": [],
   "source": [
    "cur.execute(order_details_table_create)"
   ]
  },
  {
   "cell_type": "code",
   "execution_count": 37,
   "id": "d4a0a571",
   "metadata": {},
   "outputs": [],
   "source": [
    "pizza_types_table_create = (\"\"\" CREATE TABLE IF NOT EXISTS\n",
    "                                pizza_types (pizza_type_id VARCHAR PRIMARY KEY,\n",
    "                                name VARCHAR,\n",
    "                                category VARCHAR,\n",
    "                                ingredients VARCHAR);\n",
    "\"\"\")"
   ]
  },
  {
   "cell_type": "code",
   "execution_count": 72,
   "id": "d197889f",
   "metadata": {},
   "outputs": [],
   "source": [
    "cur.execute(pizza_types_table_create)"
   ]
  },
  {
   "cell_type": "markdown",
   "id": "f8f7c446",
   "metadata": {},
   "source": [
    "#### Inserting data into pizza table"
   ]
  },
  {
   "cell_type": "code",
   "execution_count": 73,
   "id": "32383ea2",
   "metadata": {},
   "outputs": [],
   "source": [
    "pizzas_table_insert = (\"\"\"  INSERT INTO pizzas (\n",
    "                            pizza_id,\n",
    "                            pizza_type_id,\n",
    "                            size,\n",
    "                            price)\n",
    "                            VALUES (%s, %s, %s, %s)\n",
    "\"\"\")"
   ]
  },
  {
   "cell_type": "code",
   "execution_count": 77,
   "id": "5f39d914",
   "metadata": {},
   "outputs": [],
   "source": [
    "for i, row in Pizzas.iterrows():\n",
    "        cur.execute(pizzas_table_insert,list(row))"
   ]
  },
  {
   "cell_type": "markdown",
   "id": "2707fe37",
   "metadata": {},
   "source": [
    "#### Inserting data into orders table"
   ]
  },
  {
   "cell_type": "code",
   "execution_count": 82,
   "id": "0cff41d4",
   "metadata": {},
   "outputs": [],
   "source": [
    "orders_table_insert = (\"\"\" INSERT INTO orders(\n",
    "                            order_id,\n",
    "                            date,\n",
    "                            time)\n",
    "                            VALUES ( %s, %s, %s)\n",
    "\"\"\")"
   ]
  },
  {
   "cell_type": "code",
   "execution_count": 85,
   "id": "d671849a",
   "metadata": {},
   "outputs": [],
   "source": [
    "for i, row in Orders.iterrows():\n",
    "        cur.execute(orders_table_insert,list(row))"
   ]
  },
  {
   "cell_type": "markdown",
   "id": "99f02218",
   "metadata": {},
   "source": [
    "#### Inserting data into order_details table"
   ]
  },
  {
   "cell_type": "code",
   "execution_count": 86,
   "id": "288382f1",
   "metadata": {},
   "outputs": [],
   "source": [
    "order_details_table_insert = (\"\"\" INSERT INTO order_details (\n",
    "                                order_details_id,\n",
    "                                order_id,\n",
    "                                pizza_id,\n",
    "                                quantity)\n",
    "                                VALUES ( %s, %s, %s, %s)\n",
    "\"\"\")"
   ]
  },
  {
   "cell_type": "code",
   "execution_count": 87,
   "id": "b376d824",
   "metadata": {},
   "outputs": [],
   "source": [
    "for i, row in Order_details.iterrows():\n",
    "        cur.execute(order_details_table_insert,list(row))"
   ]
  },
  {
   "cell_type": "markdown",
   "id": "965a9884",
   "metadata": {},
   "source": [
    "#### Inserting data into pizza_types table"
   ]
  },
  {
   "cell_type": "code",
   "execution_count": 88,
   "id": "37569ba6",
   "metadata": {},
   "outputs": [],
   "source": [
    "pizza_types_table_insert = (\"\"\" INSERT INTO pizza_types (\n",
    "                                pizza_type_id,\n",
    "                                name,\n",
    "                                category,\n",
    "                                ingredients)\n",
    "                                VALUES ( %s, %s, %s, %s)\n",
    "\"\"\")"
   ]
  },
  {
   "cell_type": "code",
   "execution_count": 93,
   "id": "a4f9c01b",
   "metadata": {},
   "outputs": [],
   "source": [
    "for i, row in Pizza_types.iterrows():\n",
    "        cur.execute(pizza_types_table_insert,list(row))"
   ]
  },
  {
   "cell_type": "code",
   "execution_count": null,
   "id": "9b656db1",
   "metadata": {},
   "outputs": [],
   "source": []
  }
 ],
 "metadata": {
  "kernelspec": {
   "display_name": "Python 3 (ipykernel)",
   "language": "python",
   "name": "python3"
  },
  "language_info": {
   "codemirror_mode": {
    "name": "ipython",
    "version": 3
   },
   "file_extension": ".py",
   "mimetype": "text/x-python",
   "name": "python",
   "nbconvert_exporter": "python",
   "pygments_lexer": "ipython3",
   "version": "3.9.12"
  }
 },
 "nbformat": 4,
 "nbformat_minor": 5
}
